{
  "nbformat": 4,
  "nbformat_minor": 0,
  "metadata": {
    "colab": {
      "provenance": [],
      "authorship_tag": "ABX9TyPceKw6mJKrFQFjB+PloE5r",
      "include_colab_link": true
    },
    "kernelspec": {
      "name": "python3",
      "display_name": "Python 3"
    },
    "language_info": {
      "name": "python"
    }
  },
  "cells": [
    {
      "cell_type": "markdown",
      "metadata": {
        "id": "view-in-github",
        "colab_type": "text"
      },
      "source": [
        "<a href=\"https://colab.research.google.com/github/Gautam12NI/102303739_UML_501_assignments/blob/main/102303739_Ass1.ipynb\" target=\"_parent\"><img src=\"https://colab.research.google.com/assets/colab-badge.svg\" alt=\"Open In Colab\"/></a>"
      ]
    },
    {
      "cell_type": "code",
      "execution_count": 1,
      "metadata": {
        "id": "Kh_F2Xq0wcp9",
        "colab": {
          "base_uri": "https://localhost:8080/"
        },
        "outputId": "c9be384a-0d7c-4ecf-bbe1-4b7134fecc20"
      },
      "outputs": [
        {
          "output_type": "stream",
          "name": "stdout",
          "text": [
            "rev =  [5 4 6 3 2 1]\n"
          ]
        }
      ],
      "source": [
        "\n",
        "# Q1 (a)\n",
        "import numpy as np\n",
        "arr = np.array([1,2,3,6,4,5])\n",
        "rev = arr[::-1]\n",
        "print(\"rev = \",rev)"
      ]
    },
    {
      "cell_type": "code",
      "source": [
        "# Q1 (b)\n",
        "array1 = np.array([[1,2,3],[2,4,5],[1,2,3]])\n",
        "flatt1 = array1.flatten()\n",
        "print(\"arr = \",flatt1)\n",
        "flatt2 = array1.ravel()\n",
        "print(\"arr = \",flatt2)"
      ],
      "metadata": {
        "colab": {
          "base_uri": "https://localhost:8080/"
        },
        "id": "nAIE0y0dZEoE",
        "outputId": "d86eb953-4610-45fd-8e54-f504b0acf456"
      },
      "execution_count": 4,
      "outputs": [
        {
          "output_type": "stream",
          "name": "stdout",
          "text": [
            "arr =  [1 2 3 2 4 5 1 2 3]\n",
            "arr =  [1 2 3 2 4 5 1 2 3]\n"
          ]
        }
      ]
    },
    {
      "cell_type": "code",
      "source": [
        "\n",
        "# Q1 (c)\n",
        "arr1 = np.array([[1,2],[3,4]])\n",
        "arr2 = np.array([[1,2],[3,4]])\n",
        "np.array_equal(arr1,arr2)"
      ],
      "metadata": {
        "colab": {
          "base_uri": "https://localhost:8080/"
        },
        "id": "sEa1bhRjZEuB",
        "outputId": "fd622230-9e7d-4685-e5f8-656329de58f3"
      },
      "execution_count": 3,
      "outputs": [
        {
          "output_type": "execute_result",
          "data": {
            "text/plain": [
              "True"
            ]
          },
          "metadata": {},
          "execution_count": 3
        }
      ]
    },
    {
      "cell_type": "code",
      "source": [
        "\n",
        "# Q1 (d)\n",
        "x = np.array([1,2,3,4,5,1,2,1,1,1])\n",
        "val1 = int(np.bincount(x).argmax())\n",
        "idx1 = np.where(x==val1)[0]\n",
        "print(\"most freq ele in x is\",val1,\"on indices\",idx1)\n",
        "\n",
        "y = np.array([1,1,1,2,3,4,2,4,3,3])\n",
        "val2 = int(np.bincount(y).argmax())\n",
        "idx2 = np.where(y==val2)[0]\n",
        "print(\"most freq ele in y is\",val2, \"on indices\",idx2)"
      ],
      "metadata": {
        "colab": {
          "base_uri": "https://localhost:8080/"
        },
        "id": "C3XobfrsZExN",
        "outputId": "eafec456-4e4a-420e-b9e6-b1f64b61e6a2"
      },
      "execution_count": 2,
      "outputs": [
        {
          "output_type": "stream",
          "name": "stdout",
          "text": [
            "most freq ele in x is 1 on indices [0 5 7 8 9]\n",
            "most freq ele in y is 1 on indices [0 1 2]\n"
          ]
        }
      ]
    },
    {
      "cell_type": "code",
      "source": [
        "gfg = np.matrix('[4, 1, 9; 12, 3, 1; 4, 5, 6]')\n",
        "\n",
        "sum=gfg.sum()\n",
        "print(\"Total sum:\", sum)\n",
        "\n",
        "rowsum=gfg.sum(axis=1)\n",
        "print(\"Row-wise sum:\\n\", rowsum)\n",
        "\n",
        "colsum=gfg.sum(axis=0)\n",
        "print(\"Column-wise sum:\\n\",colsum )"
      ],
      "metadata": {
        "colab": {
          "base_uri": "https://localhost:8080/"
        },
        "id": "4TWLazcWZE0x",
        "outputId": "02004775-8194-411d-db4d-77856c22f4b2"
      },
      "execution_count": 5,
      "outputs": [
        {
          "output_type": "stream",
          "name": "stdout",
          "text": [
            "Total sum: 45\n",
            "Row-wise sum:\n",
            " [[14]\n",
            " [16]\n",
            " [15]]\n",
            "Column-wise sum:\n",
            " [[20  9 16]]\n"
          ]
        }
      ]
    },
    {
      "cell_type": "code",
      "source": [
        "\n",
        "# Q1 (f)\n",
        "n_array = np.array([[55,25,15],[30,44,2],[11,45,77]])\n",
        "diagsum = np.trace(n_array)\n",
        "eigVals , eigVecs = np.linalg.eig(n_array)\n",
        "inverse = np.linalg.inv(n_array)\n",
        "det = np.linalg.det(n_array)\n",
        "print(\"diagonal sum =\",diagsum)\n",
        "print(\"eigen values =\",eigVals)\n",
        "print(\"eigen vectors =\",eigVecs)\n",
        "print(\"inverse matrix =\",inverse)\n",
        "print(\"Determinant =\",det)"
      ],
      "metadata": {
        "colab": {
          "base_uri": "https://localhost:8080/"
        },
        "id": "OPazY59pZE3Y",
        "outputId": "343ffd67-4622-40f8-f988-1e87a253be49"
      },
      "execution_count": 6,
      "outputs": [
        {
          "output_type": "stream",
          "name": "stdout",
          "text": [
            "diagonal sum = 176\n",
            "eigen values = [98.16835147 28.097044   49.73460452]\n",
            "eigen vectors = [[ 0.4574917   0.34637121 -0.15017693]\n",
            " [ 0.28447814 -0.72784061 -0.4852124 ]\n",
            " [ 0.84248058  0.59184038  0.8614034 ]]\n",
            "inverse matrix = [[ 0.02404141 -0.00911212 -0.00444671]\n",
            " [-0.01667882  0.02966905  0.0024785 ]\n",
            " [ 0.00631287 -0.01603732  0.01217379]]\n",
            "Determinant = 137180.0000000001\n"
          ]
        }
      ]
    },
    {
      "cell_type": "code",
      "source": [
        "\n",
        "# Q1 (g)\n",
        "p1 = np.array([[1,2],[2,3]])\n",
        "q1 = np.array([[4,5],[6,7]])\n",
        "\n",
        "prod1 = np.dot(p1,q1)\n",
        "cov1 = np.cov(p1.T,q1.T)\n",
        "\n",
        "print(\"Product 1 =\")\n",
        "print(prod1)\n",
        "print(\"\\nCovariance 1 =\")\n",
        "print(cov1)\n",
        "\n",
        "p2 = np.array([[1,2],[2,3],[4,5]])\n",
        "q2 = np.array([[4,5,1],[6,7,2]])\n",
        "\n",
        "prod2 = np.dot(p2,q2)\n",
        "cov2 = np.cov(p2.T,q2)\n",
        "\n",
        "print(\"\\nProduct 2 =\")\n",
        "print(prod2)\n",
        "print(\"\\nCovariance 2 =\")\n",
        "print(cov2)"
      ],
      "metadata": {
        "colab": {
          "base_uri": "https://localhost:8080/"
        },
        "id": "-AFmBMfIZE6c",
        "outputId": "b0f9ad52-476e-4cfb-a94b-197804508933"
      },
      "execution_count": 7,
      "outputs": [
        {
          "output_type": "stream",
          "name": "stdout",
          "text": [
            "Product 1 =\n",
            "[[16 19]\n",
            " [26 31]]\n",
            "\n",
            "Covariance 1 =\n",
            "[[0.5 0.5 1.  1. ]\n",
            " [0.5 0.5 1.  1. ]\n",
            " [1.  1.  2.  2. ]\n",
            " [1.  1.  2.  2. ]]\n",
            "\n",
            "Product 2 =\n",
            "[[16 19  5]\n",
            " [26 31  8]\n",
            " [46 55 14]]\n",
            "\n",
            "Covariance 2 =\n",
            "[[ 2.33333333  2.33333333 -2.66666667 -3.5       ]\n",
            " [ 2.33333333  2.33333333 -2.66666667 -3.5       ]\n",
            " [-2.66666667 -2.66666667  4.33333333  5.5       ]\n",
            " [-3.5        -3.5         5.5         7.        ]]\n"
          ]
        }
      ]
    },
    {
      "cell_type": "code",
      "source": [
        "# Q1 (h)\n",
        "x = np.array([[2, 3, 4], [3, 2, 9]])\n",
        "y = np.array([[1, 5, 0], [5, 10, 3]])\n",
        "\n",
        "inner = np.inner(x, y)\n",
        "print(\"Inner product:\")\n",
        "print(inner)\n",
        "\n",
        "outer = np.outer(x, y)\n",
        "print(\"\\nOuter product:\")\n",
        "print(outer)\n",
        "\n",
        "a = x.flatten()\n",
        "b = y.flatten()\n",
        "cartesian = np.array([[i, j] for i in a for j in b])\n",
        "print(\"\\nCartesian product:\")\n",
        "print(cartesian)"
      ],
      "metadata": {
        "colab": {
          "base_uri": "https://localhost:8080/"
        },
        "id": "9Xra0RmKZE9H",
        "outputId": "cc1d76a4-71d3-4945-f4a9-c42e8c1b9f0b"
      },
      "execution_count": 8,
      "outputs": [
        {
          "output_type": "stream",
          "name": "stdout",
          "text": [
            "Inner product:\n",
            "[[17 52]\n",
            " [13 62]]\n",
            "\n",
            "Outer product:\n",
            "[[ 2 10  0 10 20  6]\n",
            " [ 3 15  0 15 30  9]\n",
            " [ 4 20  0 20 40 12]\n",
            " [ 3 15  0 15 30  9]\n",
            " [ 2 10  0 10 20  6]\n",
            " [ 9 45  0 45 90 27]]\n",
            "\n",
            "Cartesian product:\n",
            "[[ 2  1]\n",
            " [ 2  5]\n",
            " [ 2  0]\n",
            " [ 2  5]\n",
            " [ 2 10]\n",
            " [ 2  3]\n",
            " [ 3  1]\n",
            " [ 3  5]\n",
            " [ 3  0]\n",
            " [ 3  5]\n",
            " [ 3 10]\n",
            " [ 3  3]\n",
            " [ 4  1]\n",
            " [ 4  5]\n",
            " [ 4  0]\n",
            " [ 4  5]\n",
            " [ 4 10]\n",
            " [ 4  3]\n",
            " [ 3  1]\n",
            " [ 3  5]\n",
            " [ 3  0]\n",
            " [ 3  5]\n",
            " [ 3 10]\n",
            " [ 3  3]\n",
            " [ 2  1]\n",
            " [ 2  5]\n",
            " [ 2  0]\n",
            " [ 2  5]\n",
            " [ 2 10]\n",
            " [ 2  3]\n",
            " [ 9  1]\n",
            " [ 9  5]\n",
            " [ 9  0]\n",
            " [ 9  5]\n",
            " [ 9 10]\n",
            " [ 9  3]]\n"
          ]
        }
      ]
    },
    {
      "cell_type": "code",
      "source": [
        "# Q2 (a) i\n",
        "array = np.array([[1,-2,3],[-4,5,-6]])\n",
        "abs_array = np.abs(array)\n",
        "print(\"Absolute values:\")\n",
        "print(abs_array)"
      ],
      "metadata": {
        "colab": {
          "base_uri": "https://localhost:8080/"
        },
        "id": "deaPkuzmZE_9",
        "outputId": "c50695df-c7dd-4a1c-ba99-7696ade28abc"
      },
      "execution_count": 9,
      "outputs": [
        {
          "output_type": "stream",
          "name": "stdout",
          "text": [
            "Absolute values:\n",
            "[[1 2 3]\n",
            " [4 5 6]]\n"
          ]
        }
      ]
    },
    {
      "cell_type": "code",
      "source": [
        "\n",
        "# Q2 (a) ii\n",
        "\n",
        "# Flattened array percentiles\n",
        "x = array.flatten()\n",
        "flat = np.percentile(x,[25,50,75])\n",
        "print(\"\\nPercentiles (flattened):\")\n",
        "print(flat)\n",
        "\n",
        "# Column-wise percentiles\n",
        "col = np.percentile(array,[25,50,75],axis=0)\n",
        "print(\"\\nPercentiles column-wise :\")\n",
        "print(col)\n",
        "\n",
        "# Row-wise percentiles\n",
        "row = np.percentile(array,[25, 50, 75],axis=1)\n",
        "print(\"\\nPercentiles row-wise :\")\n",
        "print(row)"
      ],
      "metadata": {
        "colab": {
          "base_uri": "https://localhost:8080/"
        },
        "id": "Nr_fA7nOZFCr",
        "outputId": "66141f5f-991f-455a-e275-dccadb751fc6"
      },
      "execution_count": 10,
      "outputs": [
        {
          "output_type": "stream",
          "name": "stdout",
          "text": [
            "\n",
            "Percentiles (flattened):\n",
            "[-3.5 -0.5  2.5]\n",
            "\n",
            "Percentiles column-wise :\n",
            "[[-2.75 -0.25 -3.75]\n",
            " [-1.5   1.5  -1.5 ]\n",
            " [-0.25  3.25  0.75]]\n",
            "\n",
            "Percentiles row-wise :\n",
            "[[-0.5 -5. ]\n",
            " [ 1.  -4. ]\n",
            " [ 2.   0.5]]\n"
          ]
        }
      ]
    },
    {
      "cell_type": "code",
      "source": [
        "# Q2 (a) iii\n",
        "\n",
        "# For entire array\n",
        "mean = np.mean(array)\n",
        "print(\"mean (all ele) :\",mean)\n",
        "median = np.median(array)\n",
        "print(\"median (all ele) :\",median)\n",
        "std = np.std(array)\n",
        "print(\"std (all ele) :\",std)\n",
        "\n",
        "# Column-wise\n",
        "mean_col = np.mean(array, axis=0)\n",
        "print(\"\\n\\nmean (col-wise)\",mean_col)\n",
        "median_col = np.median(array, axis=0)\n",
        "print(\"median (col-wise)\",median_col)\n",
        "std_col = np.std(array, axis=0)\n",
        "print(\"std (col-wise)\",std_col)\n",
        "\n",
        "# Row-wise\n",
        "mean_row = np.mean(array, axis=1)\n",
        "print(\"\\n\\nmean (row-wise)\",mean_row)\n",
        "median_row = np.median(array, axis=1)\n",
        "print(\"median (row-wise)\",median_row)\n",
        "std_row = np.std(array, axis=1)\n",
        "print(\"std (row-wise)\",std_row)\n",
        ""
      ],
      "metadata": {
        "colab": {
          "base_uri": "https://localhost:8080/"
        },
        "id": "v3DuQuxfZFFc",
        "outputId": "5b097118-1f01-4e65-b754-dcdfc512844c"
      },
      "execution_count": 11,
      "outputs": [
        {
          "output_type": "stream",
          "name": "stdout",
          "text": [
            "mean (all ele) : -0.5\n",
            "median (all ele) : -0.5\n",
            "std (all ele) : 3.8622100754188224\n",
            "\n",
            "\n",
            "mean (col-wise) [-1.5  1.5 -1.5]\n",
            "median (col-wise) [-1.5  1.5 -1.5]\n",
            "std (col-wise) [2.5 3.5 4.5]\n",
            "\n",
            "\n",
            "mean (row-wise) [ 0.66666667 -1.66666667]\n",
            "median (row-wise) [ 1. -4.]\n",
            "std (row-wise) [2.05480467 4.78423336]\n"
          ]
        }
      ]
    },
    {
      "cell_type": "code",
      "source": [
        "# Q2 (b)\n",
        "a = np.array([-1.8,-1.6,-0.5,0.5,1.6,1.8,3.0])\n",
        "\n",
        "floor = np.floor(a)\n",
        "ceil = np.ceil(a)\n",
        "trunc = np.trunc(a)\n",
        "rounded = np.round(a)\n",
        "\n",
        "print(\"Floor values:\",floor)\n",
        "print(\"\\nCeiling values:\",ceil)\n",
        "print(\"\\nTruncated values:\",trunc)\n",
        "print(\"\\nRounded values:\",rounded)"
      ],
      "metadata": {
        "colab": {
          "base_uri": "https://localhost:8080/"
        },
        "id": "bDEVpynBZFIR",
        "outputId": "9c075c9e-5894-4b33-d902-bb3515d4016f"
      },
      "execution_count": 12,
      "outputs": [
        {
          "output_type": "stream",
          "name": "stdout",
          "text": [
            "Floor values: [-2. -2. -1.  0.  1.  1.  3.]\n",
            "\n",
            "Ceiling values: [-1. -1. -0.  1.  2.  2.  3.]\n",
            "\n",
            "Truncated values: [-1. -1. -0.  0.  1.  1.  3.]\n",
            "\n",
            "Rounded values: [-2. -2. -0.  0.  2.  2.  3.]\n"
          ]
        }
      ]
    },
    {
      "cell_type": "code",
      "source": [
        "# Q3 (a)\n",
        "array = np.array([10,52,62,16,16,54,453])\n",
        "\n",
        "sortarr = np.sort(array)\n",
        "print(\"Sorted array :\",sortarr)\n",
        "sortidx = np.argsort(array)\n",
        "print(\"\\nIndices of sorted array :\", sortidx)\n",
        "small_4 = sortarr[:4]\n",
        "print(\"\\n4 smallest elements :\",small_4)\n",
        "large_5 = sortarr[-5:]\n",
        "print(\"\\n5 largest elements :\",large_5)"
      ],
      "metadata": {
        "colab": {
          "base_uri": "https://localhost:8080/"
        },
        "id": "AP1F-1XNaeHK",
        "outputId": "88033ab7-4fa6-403a-a92f-25ad08ed7b33"
      },
      "execution_count": 13,
      "outputs": [
        {
          "output_type": "stream",
          "name": "stdout",
          "text": [
            "Sorted array : [ 10  16  16  52  54  62 453]\n",
            "\n",
            "Indices of sorted array : [0 3 4 1 5 2 6]\n",
            "\n",
            "4 smallest elements : [10 16 16 52]\n",
            "\n",
            "5 largest elements : [ 16  52  54  62 453]\n"
          ]
        }
      ]
    },
    {
      "cell_type": "code",
      "source": [
        "# Q3 (b)\n",
        "array = np.array([1.0,1.2,2.2,2.0,3.0,2.0])\n",
        "\n",
        "ints = array[array == array.astype(int)]\n",
        "floats = array[array != array.astype(int)]\n",
        "\n",
        "print(\"Integer elements only :\",ints)\n",
        "print(\"\\nFloat elements only :\",floats)"
      ],
      "metadata": {
        "colab": {
          "base_uri": "https://localhost:8080/"
        },
        "id": "qJY6aof9aeTz",
        "outputId": "20bc3dff-a12f-4da7-a7cf-39e4db36c9c3"
      },
      "execution_count": 14,
      "outputs": [
        {
          "output_type": "stream",
          "name": "stdout",
          "text": [
            "Integer elements only : [1. 2. 3. 2.]\n",
            "\n",
            "Float elements only : [1.2 2.2]\n"
          ]
        }
      ]
    },
    {
      "cell_type": "code",
      "source": [
        "# Q4(a)\n",
        "\n",
        "from PIL import Image\n",
        "import numpy as np\n",
        "\n",
        "def img_to_array(path):\n",
        "    img = Image.open(path)\n",
        "    arr = np.array(img)\n",
        "\n",
        "    if arr.ndim == 2:\n",
        "        print(\"Grayscale image\")\n",
        "        np.savetxt(\"image_grayscale.txt\", arr, fmt='%d')\n",
        "        return \"grayscale\"\n",
        "    else:\n",
        "        print(\"RGB image\")\n",
        "        flat = arr.reshape(-1, arr.shape[2])\n",
        "        np.savetxt(\"image_rgb.txt\", flat, fmt='%d')\n",
        "        return \"rgb\"\n",
        "\n",
        "from google.colab import files\n",
        "image_type = img_to_array(\"/content/Image\")"
      ],
      "metadata": {
        "colab": {
          "base_uri": "https://localhost:8080/"
        },
        "id": "djGmQrxnaegM",
        "outputId": "4761fd3e-8d1c-4d50-d4e8-e344a8b80e9c"
      },
      "execution_count": 33,
      "outputs": [
        {
          "output_type": "stream",
          "name": "stdout",
          "text": [
            "RGB image\n"
          ]
        }
      ]
    },
    {
      "cell_type": "code",
      "source": [
        "\n",
        "# Q4(b)\n",
        "\n",
        "if image_type == \"grayscale\":\n",
        "    gray = np.loadtxt(\"image_grayscale.txt\", dtype=int)\n",
        "    print(\"Grayscale image:\")\n",
        "    print(gray)\n",
        "\n",
        "elif image_type == \"rgb\":\n",
        "    rgb = np.loadtxt(\"image_rgb.txt\", dtype=int)\n",
        "    print(\"RGB image:\")\n",
        "    print(rgb)\n",
        "\n",
        "else:\n",
        "    print(\"Image not loaded\")\n"
      ],
      "metadata": {
        "colab": {
          "base_uri": "https://localhost:8080/"
        },
        "id": "Vwx42LnAc9k-",
        "outputId": "117ab883-3c78-4803-b707-dbdcf727850b"
      },
      "execution_count": 34,
      "outputs": [
        {
          "output_type": "stream",
          "name": "stdout",
          "text": [
            "RGB image:\n",
            "[[ 65 117 186]\n",
            " [ 65 117 186]\n",
            " [ 65 117 186]\n",
            " ...\n",
            " [  0  96 159]\n",
            " [  0  96 159]\n",
            " [  0  96 159]]\n"
          ]
        }
      ]
    }
  ]
}